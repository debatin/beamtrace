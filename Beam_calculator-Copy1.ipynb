{
 "cells": [
  {
   "cell_type": "code",
   "execution_count": 12,
   "metadata": {
    "collapsed": true
   },
   "outputs": [],
   "source": [
    "import matplotlib.pyplot as plt\n",
    "import numpy as np\n"
   ]
  },
  {
   "cell_type": "code",
   "execution_count": 83,
   "metadata": {},
   "outputs": [
    {
     "name": "stdout",
     "output_type": "stream",
     "text": [
      "[-0.02+0.00785398j -0.02+0.00785398j -0.01+0.00785398j  0.00+0.00785398j\n",
      "  0.01+0.00785398j  0.02+0.00785398j  0.03+0.00785398j  0.04+0.00785398j\n",
      "  0.05+0.00785398j  0.06+0.00785398j  0.07+0.00785398j  0.08+0.00785398j\n",
      "  0.08+0.00785398j  0.09+0.00785398j  0.10+0.00785398j  0.11+0.00785398j\n",
      "  0.12+0.00785398j  0.13+0.00785398j  0.14+0.00785398j  0.15+0.00785398j\n",
      "  0.16+0.00785398j  0.17+0.00785398j  0.18+0.00785398j]\n"
     ]
    },
    {
     "data": {
      "image/png": "[encoded data removed]",
      "text/plain": [
       "<matplotlib.figure.Figure at 0x7f01c1498160>"
      ]
     },
     "metadata": {},
     "output_type": "display_data"
    }
   ],
   "source": [
    "gauss_waist=    lambda q, wl: np.sqrt(q.imag*wl/np.pi)*np.sqrt(1+(q.real/q.imag)**2)\n",
    "gauss_travel=   lambda q, z: np.append(q, q[-1]+z)\n",
    "gauss_addlens = lambda q, f: np.append(q[:-1],[q[-1]/(-q[-1]/f+1)])\n",
    "\n",
    "\n",
    "\n",
    "# Start parameter\n",
    "z0=5E-3\n",
    "w0=500E-6\n",
    "wl=1E-6\n",
    "zr=w0**2*np.pi/wl\n",
    "q=-z0+1.j*zr\n",
    "\n",
    "#travel\n",
    "x=np.array([0])\n",
    "z=np.linspace(0,350E-3,110)\n",
    "\n",
    "beam=gauss_travel(np.array([q]),z)\n",
    "x=np.append(x,z+x[-1])\n",
    "beam=gauss_addlens(beam,175E-3)\n",
    "\n",
    "beam=gauss_travel(beam,z)\n",
    "x=np.append(x,z+x[-1])\n",
    "\n",
    "print(beam2)\n",
    "\n",
    "plt.plot(x,gauss_waist(beam,wl)*1000)\n",
    "plt.plot(x,x*0)\n",
    "plt.show()\n"
   ]
  },
  {
   "cell_type": "code",
   "execution_count": 173,
   "metadata": {},
   "outputs": [],
   "source": [
    "#Beam functions\n",
    "# A beam is defined 2d [[x0,q0],[x1,q1]]\n",
    "beam_travel = lambda beam, z: np.append(beam,[beam[-1]+z],axis=0)\n",
    "beam_addlens = lambda beam, f:np.append(beam[:-1],np.array([[beam[-1][0],beam[-1][1]/(-beam[-1][1]/f+1)]]),axis=0) \n",
    "def beam_linspace (beam, dx):\n",
    "    x=beam.T[0]        #xwerte\n",
    "    q=beam.T[1]        #q werte\n",
    "    dists=x[1:]-x[:-1] #distanzen\n",
    "    dists=dists.real\n",
    "    newx=np.array([])\n",
    "    newq=np.array([])\n",
    "    for n,d in enumerate(dists):\n",
    "        z=np.arange(0,d,dx)\n",
    "        \n",
    "        newx=np.append(newx,x[n]+z)\n",
    "        newq=np.append(newq,gauss_travel(np.array([q[n]]),z)[1:])\n",
    "    newbeam=np.array([newx,newq]).T\n",
    "    return newbeam\n",
    "def beam_plot(beam,wl):\n",
    "    beam2=beam_linspace(beam,10E-3)\n",
    "\n",
    "    plt.plot(beam2.T[0].real,gauss_waist(beam2.T[1],wl)*1000,color='blue')\n",
    "    x=beam2.T[0].real\n",
    "    plt.plot(x,x*0)\n",
    "    for pos in beam[:-1]: #calculate focii\n",
    "        z0=pos[0].real-pos[1].real\n",
    "        zr=pos[1].imag\n",
    "        w0=np.sqrt(zr*wl/np.pi)\n",
    "        plt.plot([z0.real,z0.real],[0,w0*1000],color='red')\n",
    "    for pos in beam[1:-1]:    #Print segment lines\n",
    "        plt.plot([pos[0].real,pos[0].real],[0,gauss_waist(pos[1],wl)*1000],color='black')\n",
    "    plt.xlabel('z [m]')\n",
    "    plt.ylabel('w [mm]')\n",
    "        \n",
    "        \n",
    "\n"
   ]
  },
  {
   "cell_type": "code",
   "execution_count": 174,
   "metadata": {},
   "outputs": [
    {
     "name": "stdout",
     "output_type": "stream",
     "text": [
      "(70,)\n"
     ]
    },
    {
     "data": {
      "image/png": "[encoded data removed]",
      "text/plain": [
       "<matplotlib.figure.Figure at 0x7f01c16d0978>"
      ]
     },
     "metadata": {},
     "output_type": "display_data"
    }
   ],
   "source": [
    "# ------------- Example Usage -------------------------\n",
    "# Start parameter\n",
    "z0=5E-3\n",
    "w0=500E-6\n",
    "wl=1E-6\n",
    "zr=w0**2*np.pi/wl\n",
    "q=-z0+1.j*zr\n",
    "\n",
    "\n",
    "# add elements \n",
    "beam=np.array([[0,q]])\n",
    "beam=beam_travel(beam,350E-3)\n",
    "beam=beam_addlens(beam,175E-3)\n",
    "beam=beam_travel(beam,350E-3)\n",
    "#beam2=beam_linspace(beam,10E-3)  # fill beam with intermediate values for plotting\n",
    "\n",
    "beam_plot(beam,wl)\n",
    "print(beam2.T[1].shape)\n",
    "#plt.plot(beam2.T[0].real,gauss_waist(beam2.T[1],wl)*1000)\n",
    "plt.show()"
   ]
  },
  {
   "cell_type": "code",
   "execution_count": 176,
   "metadata": {},
   "outputs": [
    {
     "name": "stdout",
     "output_type": "stream",
     "text": [
      "(70,)\n"
     ]
    },
    {
     "data": {
      "image/png": "[encoded data removed]",
      "text/plain": [
       "<matplotlib.figure.Figure at 0x7f01c15f29e8>"
      ]
     },
     "metadata": {},
     "output_type": "display_data"
    }
   ],
   "source": [
    "# ------------- Example Usage -------------------------\n",
    "# Start parameter\n",
    "z0=0E-3\n",
    "w0=30E-6\n",
    "wl=500E-9\n",
    "zr=w0**2*np.pi/wl\n",
    "q=-z0+1.j*zr\n",
    "\n",
    "\n",
    "# add elements \n",
    "beam=np.array([[0,q]])\n",
    "beam=beam_travel(beam,90E-3)\n",
    "beam=beam_addlens(beam,90E-3)\n",
    "beam=beam_travel(beam,300E-3)\n",
    "beam=beam_addlens(beam,150E-3)\n",
    "beam=beam_travel(beam,300E-3)\n",
    "#beam2=beam_linspace(beam,10E-3)  # fill beam with intermediate values for plotting\n",
    "\n",
    "beam_plot(beam,wl)\n",
    "print(beam2.T[1].shape)\n",
    "#plt.plot(beam2.T[0].real,gauss_waist(beam2.T[1],wl)*1000)\n",
    "plt.show()"
   ]
  },
  {
   "cell_type": "code",
   "execution_count": null,
   "metadata": {
    "collapsed": true
   },
   "outputs": [],
   "source": []
  },
  {
   "cell_type": "code",
   "execution_count": null,
   "metadata": {},
   "outputs": [],
   "source": []
  },
  {
   "cell_type": "code",
   "execution_count": null,
   "metadata": {},
   "outputs": [],
   "source": []
  },
  {
   "cell_type": "code",
   "execution_count": null,
   "metadata": {},
   "outputs": [],
   "source": []
  },
  {
   "cell_type": "code",
   "execution_count": null,
   "metadata": {
    "collapsed": true
   },
   "outputs": [],
   "source": []
  }
 ],
 "metadata": {
  "kernelspec": {
   "display_name": "Python 3",
   "language": "python",
   "name": "python3"
  },
  "language_info": {
   "codemirror_mode": {
    "name": "ipython",
    "version": 3
   },
   "file_extension": ".py",
   "mimetype": "text/x-python",
   "name": "python",
   "nbconvert_exporter": "python",
   "pygments_lexer": "ipython3",
   "version": "3.5.2"
  }
 },
 "nbformat": 4,
 "nbformat_minor": 2
}
